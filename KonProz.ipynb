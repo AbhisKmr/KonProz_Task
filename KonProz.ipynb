{
 "cells": [
  {
   "cell_type": "code",
   "execution_count": 1,
   "id": "85b87042-00c6-47ad-b2b4-80e3ea0621c6",
   "metadata": {},
   "outputs": [],
   "source": [
    "from langchain.document_loaders import PyPDFLoader\n",
    "from langchain.text_splitter import RecursiveCharacterTextSplitter\n",
    "\n",
    "text_splitter = RecursiveCharacterTextSplitter(\n",
    "\n",
    "    chunk_size=1000,\n",
    "    chunk_overlap=100,\n",
    "    length_function=len,\n",
    "    is_separator_regex=False,\n",
    ")\n",
    "docs = PyPDFLoader(\"./konproz.pdf\").load_and_split(text_splitter = text_splitter ) \n",
    "\n",
    "\n",
    "doc_contents = [doc.page_content for doc in docs]\n",
    "\n",
    "doc_ids = list(range(1, len(docs) + 1))\n"
   ]
  },
  {
   "cell_type": "code",
   "execution_count": 2,
   "id": "429a1885-28e2-4624-a1d3-fb334e8c0b6a",
   "metadata": {},
   "outputs": [
    {
     "name": "stderr",
     "output_type": "stream",
     "text": [
      "/Users/abhishek12.9ipad/miniconda3/envs/konproz/lib/python3.11/site-packages/tqdm/auto.py:21: TqdmWarning: IProgress not found. Please update jupyter and ipywidgets. See https://ipywidgets.readthedocs.io/en/stable/user_install.html\n",
      "  from .autonotebook import tqdm as notebook_tqdm\n",
      "\n",
      "atches: 100%|████████████████████████████████████████████████████████████████████████████████████████████████████████████████████| 141/141 [04:23<00:00,  1.87s/it]"
     ]
    }
   ],
   "source": [
    "from sentence_transformers import SentenceTransformer\n",
    "# model = SentenceTransformer(\"all-MiniLM-L6-v2\", device='cpu')\n",
    "model = SentenceTransformer(\"sentence-transformers/all-mpnet-base-v2\", device='cpu')\n",
    "\n",
    "# vectors = model.encode(doc_contents)\n",
    "# vectors = model.encode(doc_contents, batch_size=12, show_progress_bar=True)\n",
    "vectors = model.encode(doc_contents, show_progress_bar=True)"
   ]
  },
  {
   "cell_type": "code",
   "execution_count": 3,
   "id": "2258a6c1-f355-4ad0-9d1d-51388cecadd0",
   "metadata": {},
   "outputs": [
    {
     "name": "stderr",
     "output_type": "stream",
     "text": [
      "/var/folders/rq/qqz_mfy94cx5f89cknj2xwqr0000gn/T/ipykernel_76531/2919452441.py:9: DeprecationWarning: `recreate_collection` method is deprecated and will be removed in the future. Use `collection_exists` to check collection existence and `create_collection` instead.\n",
      "  client.recreate_collection(\n"
     ]
    }
   ],
   "source": [
    "from qdrant_client import QdrantClient\n",
    "from qdrant_client.models import Distance, VectorParams\n",
    "\n",
    "import streamlit as st\n",
    "\n",
    "\n",
    "client = QdrantClient(\":memory:\")\n",
    "\n",
    "client.recreate_collection(\n",
    "    collection_name=\"cf_data\",\n",
    "    vectors_config=VectorParams(size=768, distance=Distance.COSINE),\n",
    ")\n",
    "\n",
    "client.upload_collection(\n",
    "    collection_name=\"cf_data\",\n",
    "    ids=[i for i in range(len(doc_contents))],\n",
    "    vectors=vectors,\n",
    "    \n",
    ")"
   ]
  },
  {
   "cell_type": "code",
   "execution_count": 4,
   "id": "a38f9b48-7fae-4987-84ec-56e52a47b8ec",
   "metadata": {},
   "outputs": [],
   "source": [
    "from dspy.retrieve.qdrant_rm import QdrantRM\n",
    "qdrant_retriever_model = QdrantRM(\"cf_data\", client, k=3)\n"
   ]
  },
  {
   "cell_type": "code",
   "execution_count": 5,
   "id": "e57d4866-025a-4c47-adc2-d6ca84cecac5",
   "metadata": {},
   "outputs": [],
   "source": [
    "import dspy\n",
    "lm = dspy.OllamaLocal(model=\"llama3.2\",timeout_s = 180)\n",
    "\n",
    "\n",
    "dspy.settings.configure(rm=qdrant_retriever_model, lm=lm)\n"
   ]
  },
  {
   "cell_type": "code",
   "execution_count": 24,
   "id": "67856eda-5204-43d9-a7b7-4987776dc7df",
   "metadata": {},
   "outputs": [],
   "source": [
    "class GenerateAnswer(dspy.Signature):\n",
    "    \"\"\"Answer questions by extracting concise, fact based responses from PDF documents.\"\"\"\n",
    "\n",
    "    context = dspy.InputField(desc=\"Extracted text or embeddings from the PDF document\")\n",
    "    question = dspy.InputField(desc=\"User query related to the content of the PDF\")\n",
    "    answer = dspy.OutputField(desc=\"Short, factual answer derived from the PDF content\")\n",
    "    # answer = dspy.OutputField(desc=\"a answer within 20 to 30 words\")\n",
    "\n",
    "\n",
    "def get_context(text):\n",
    "    query_vector = model.encode(text)\n",
    "\n",
    "\n",
    "    hits = client.search(\n",
    "        collection_name=\"cf_data\",\n",
    "        query_vector=query_vector,\n",
    "        limit=3  # Return 5 closest points\n",
    "    )\n",
    "    s=''\n",
    "    for x in [doc_contents[i.id] for i in hits]:\n",
    "        s = s + x\n",
    "    return s\n"
   ]
  },
  {
   "cell_type": "code",
   "execution_count": 25,
   "id": "f0840c64-03d2-46c4-a77f-ae90392ba605",
   "metadata": {},
   "outputs": [],
   "source": [
    "class RAG(dspy.Module):\n",
    "    def __init__(self, num_passages=3):\n",
    "        super().__init__()\n",
    "\n",
    "\n",
    "        self.retrieve = dspy.Retrieve(k=num_passages)\n",
    "        self.generate_answer = dspy.ChainOfThought(GenerateAnswer)\n",
    "\n",
    "\n",
    "    def forward(self, question):\n",
    "        context = get_context(question)\n",
    "        prediction = self.generate_answer(context=context, question=question)\n",
    "        return dspy.Prediction(context=context, answer=prediction.answer)"
   ]
  },
  {
   "cell_type": "code",
   "execution_count": 26,
   "id": "e1e8763e-4639-4d07-bf92-bf77c890582f",
   "metadata": {},
   "outputs": [],
   "source": [
    "rag = RAG()\n",
    "def respond(query):\n",
    "    response = rag(query)\n",
    "    return response.answer"
   ]
  },
  {
   "cell_type": "code",
   "execution_count": 28,
   "id": "ac8e4781-0241-4d50-8174-a6efa08b5a1d",
   "metadata": {},
   "outputs": [
    {
     "name": "stdout",
     "output_type": "stream",
     "text": [
      "A registered person shall be entitled to take credit of input tax charged on any supply of goods or services or both which are used or intended to be used in the course or furtherance of his business, subject to conditions and restrictions prescribed under Section 49.\n"
     ]
    }
   ],
   "source": [
    "print(respond(\"Who are not eligible to take Input Tax Credit?\"))"
   ]
  },
  {
   "cell_type": "code",
   "execution_count": null,
   "id": "7c32761b-5257-4f28-9df8-82152093245c",
   "metadata": {},
   "outputs": [],
   "source": [
    "Discounts like trade discount, quantity discount etc, are part of the normal trade and commerce. Therefore, pre-supply discounts i.e. discounts recorded in the invoice have been allowed to be excluded while determining the taxable value."
   ]
  },
  {
   "cell_type": "code",
   "execution_count": null,
   "id": "a176bd3d-5b21-408b-93dd-48fdf673e692",
   "metadata": {},
   "outputs": [],
   "source": []
  }
 ],
 "metadata": {
  "kernelspec": {
   "display_name": "Python 3 (ipykernel)",
   "language": "python",
   "name": "python3"
  },
  "language_info": {
   "codemirror_mode": {
    "name": "ipython",
    "version": 3
   },
   "file_extension": ".py",
   "mimetype": "text/x-python",
   "name": "python",
   "nbconvert_exporter": "python",
   "pygments_lexer": "ipython3",
   "version": "3.11.0"
  }
 },
 "nbformat": 4,
 "nbformat_minor": 5
}
